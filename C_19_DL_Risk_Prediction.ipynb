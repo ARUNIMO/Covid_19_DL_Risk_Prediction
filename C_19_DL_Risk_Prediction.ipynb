{
  "nbformat": 4,
  "nbformat_minor": 0,
  "metadata": {
    "colab": {
      "provenance": [],
      "authorship_tag": "ABX9TyNYw5IqTCgXY7rrphexIy4d",
      "include_colab_link": true
    },
    "kernelspec": {
      "name": "python3",
      "display_name": "Python 3"
    },
    "language_info": {
      "name": "python"
    }
  },
  "cells": [
    {
      "cell_type": "markdown",
      "metadata": {
        "id": "view-in-github",
        "colab_type": "text"
      },
      "source": [
        "<a href=\"https://colab.research.google.com/github/ARUNIMO/Covid_19_DL_Risk_Prediction/blob/main/C_19_DL_Risk_Prediction.ipynb\" target=\"_parent\"><img src=\"https://colab.research.google.com/assets/colab-badge.svg\" alt=\"Open In Colab\"/></a>"
      ]
    },
    {
      "cell_type": "code",
      "execution_count": 35,
      "metadata": {
        "id": "TF1ump6VBDG8"
      },
      "outputs": [],
      "source": [
        "import numpy as np\n",
        "import pandas as pd\n",
        "from matplotlib import pyplot as plt\n",
        "import seaborn as sns\n",
        "from sklearn.model_selection import train_test_split\n",
        "import tensorflow.compat.v1 as tf\n",
        "tf.disable_v2_behavior()"
      ]
    },
    {
      "cell_type": "code",
      "source": [
        "pd.set_option('display.max_columns', None)"
      ],
      "metadata": {
        "id": "Bx55V2V4CA4l"
      },
      "execution_count": null,
      "outputs": []
    },
    {
      "cell_type": "code",
      "source": [
        "from google.colab import files\n",
        "\n",
        "upload_file = files.upload()"
      ],
      "metadata": {
        "colab": {
          "base_uri": "https://localhost:8080/",
          "height": 74
        },
        "id": "BfIQWvOcCQaF",
        "outputId": "0e0f64ea-552e-459b-fb4a-303492da1d5e"
      },
      "execution_count": null,
      "outputs": [
        {
          "output_type": "display_data",
          "data": {
            "text/plain": [
              "<IPython.core.display.HTML object>"
            ],
            "text/html": [
              "\n",
              "     <input type=\"file\" id=\"files-06d6b52f-b36b-45ea-a426-3c00f185c8a7\" name=\"files[]\" multiple disabled\n",
              "        style=\"border:none\" />\n",
              "     <output id=\"result-06d6b52f-b36b-45ea-a426-3c00f185c8a7\">\n",
              "      Upload widget is only available when the cell has been executed in the\n",
              "      current browser session. Please rerun this cell to enable.\n",
              "      </output>\n",
              "      <script>// Copyright 2017 Google LLC\n",
              "//\n",
              "// Licensed under the Apache License, Version 2.0 (the \"License\");\n",
              "// you may not use this file except in compliance with the License.\n",
              "// You may obtain a copy of the License at\n",
              "//\n",
              "//      http://www.apache.org/licenses/LICENSE-2.0\n",
              "//\n",
              "// Unless required by applicable law or agreed to in writing, software\n",
              "// distributed under the License is distributed on an \"AS IS\" BASIS,\n",
              "// WITHOUT WARRANTIES OR CONDITIONS OF ANY KIND, either express or implied.\n",
              "// See the License for the specific language governing permissions and\n",
              "// limitations under the License.\n",
              "\n",
              "/**\n",
              " * @fileoverview Helpers for google.colab Python module.\n",
              " */\n",
              "(function(scope) {\n",
              "function span(text, styleAttributes = {}) {\n",
              "  const element = document.createElement('span');\n",
              "  element.textContent = text;\n",
              "  for (const key of Object.keys(styleAttributes)) {\n",
              "    element.style[key] = styleAttributes[key];\n",
              "  }\n",
              "  return element;\n",
              "}\n",
              "\n",
              "// Max number of bytes which will be uploaded at a time.\n",
              "const MAX_PAYLOAD_SIZE = 100 * 1024;\n",
              "\n",
              "function _uploadFiles(inputId, outputId) {\n",
              "  const steps = uploadFilesStep(inputId, outputId);\n",
              "  const outputElement = document.getElementById(outputId);\n",
              "  // Cache steps on the outputElement to make it available for the next call\n",
              "  // to uploadFilesContinue from Python.\n",
              "  outputElement.steps = steps;\n",
              "\n",
              "  return _uploadFilesContinue(outputId);\n",
              "}\n",
              "\n",
              "// This is roughly an async generator (not supported in the browser yet),\n",
              "// where there are multiple asynchronous steps and the Python side is going\n",
              "// to poll for completion of each step.\n",
              "// This uses a Promise to block the python side on completion of each step,\n",
              "// then passes the result of the previous step as the input to the next step.\n",
              "function _uploadFilesContinue(outputId) {\n",
              "  const outputElement = document.getElementById(outputId);\n",
              "  const steps = outputElement.steps;\n",
              "\n",
              "  const next = steps.next(outputElement.lastPromiseValue);\n",
              "  return Promise.resolve(next.value.promise).then((value) => {\n",
              "    // Cache the last promise value to make it available to the next\n",
              "    // step of the generator.\n",
              "    outputElement.lastPromiseValue = value;\n",
              "    return next.value.response;\n",
              "  });\n",
              "}\n",
              "\n",
              "/**\n",
              " * Generator function which is called between each async step of the upload\n",
              " * process.\n",
              " * @param {string} inputId Element ID of the input file picker element.\n",
              " * @param {string} outputId Element ID of the output display.\n",
              " * @return {!Iterable<!Object>} Iterable of next steps.\n",
              " */\n",
              "function* uploadFilesStep(inputId, outputId) {\n",
              "  const inputElement = document.getElementById(inputId);\n",
              "  inputElement.disabled = false;\n",
              "\n",
              "  const outputElement = document.getElementById(outputId);\n",
              "  outputElement.innerHTML = '';\n",
              "\n",
              "  const pickedPromise = new Promise((resolve) => {\n",
              "    inputElement.addEventListener('change', (e) => {\n",
              "      resolve(e.target.files);\n",
              "    });\n",
              "  });\n",
              "\n",
              "  const cancel = document.createElement('button');\n",
              "  inputElement.parentElement.appendChild(cancel);\n",
              "  cancel.textContent = 'Cancel upload';\n",
              "  const cancelPromise = new Promise((resolve) => {\n",
              "    cancel.onclick = () => {\n",
              "      resolve(null);\n",
              "    };\n",
              "  });\n",
              "\n",
              "  // Wait for the user to pick the files.\n",
              "  const files = yield {\n",
              "    promise: Promise.race([pickedPromise, cancelPromise]),\n",
              "    response: {\n",
              "      action: 'starting',\n",
              "    }\n",
              "  };\n",
              "\n",
              "  cancel.remove();\n",
              "\n",
              "  // Disable the input element since further picks are not allowed.\n",
              "  inputElement.disabled = true;\n",
              "\n",
              "  if (!files) {\n",
              "    return {\n",
              "      response: {\n",
              "        action: 'complete',\n",
              "      }\n",
              "    };\n",
              "  }\n",
              "\n",
              "  for (const file of files) {\n",
              "    const li = document.createElement('li');\n",
              "    li.append(span(file.name, {fontWeight: 'bold'}));\n",
              "    li.append(span(\n",
              "        `(${file.type || 'n/a'}) - ${file.size} bytes, ` +\n",
              "        `last modified: ${\n",
              "            file.lastModifiedDate ? file.lastModifiedDate.toLocaleDateString() :\n",
              "                                    'n/a'} - `));\n",
              "    const percent = span('0% done');\n",
              "    li.appendChild(percent);\n",
              "\n",
              "    outputElement.appendChild(li);\n",
              "\n",
              "    const fileDataPromise = new Promise((resolve) => {\n",
              "      const reader = new FileReader();\n",
              "      reader.onload = (e) => {\n",
              "        resolve(e.target.result);\n",
              "      };\n",
              "      reader.readAsArrayBuffer(file);\n",
              "    });\n",
              "    // Wait for the data to be ready.\n",
              "    let fileData = yield {\n",
              "      promise: fileDataPromise,\n",
              "      response: {\n",
              "        action: 'continue',\n",
              "      }\n",
              "    };\n",
              "\n",
              "    // Use a chunked sending to avoid message size limits. See b/62115660.\n",
              "    let position = 0;\n",
              "    do {\n",
              "      const length = Math.min(fileData.byteLength - position, MAX_PAYLOAD_SIZE);\n",
              "      const chunk = new Uint8Array(fileData, position, length);\n",
              "      position += length;\n",
              "\n",
              "      const base64 = btoa(String.fromCharCode.apply(null, chunk));\n",
              "      yield {\n",
              "        response: {\n",
              "          action: 'append',\n",
              "          file: file.name,\n",
              "          data: base64,\n",
              "        },\n",
              "      };\n",
              "\n",
              "      let percentDone = fileData.byteLength === 0 ?\n",
              "          100 :\n",
              "          Math.round((position / fileData.byteLength) * 100);\n",
              "      percent.textContent = `${percentDone}% done`;\n",
              "\n",
              "    } while (position < fileData.byteLength);\n",
              "  }\n",
              "\n",
              "  // All done.\n",
              "  yield {\n",
              "    response: {\n",
              "      action: 'complete',\n",
              "    }\n",
              "  };\n",
              "}\n",
              "\n",
              "scope.google = scope.google || {};\n",
              "scope.google.colab = scope.google.colab || {};\n",
              "scope.google.colab._files = {\n",
              "  _uploadFiles,\n",
              "  _uploadFilesContinue,\n",
              "};\n",
              "})(self);\n",
              "</script> "
            ]
          },
          "metadata": {}
        },
        {
          "output_type": "stream",
          "name": "stdout",
          "text": [
            "Saving Covid Data.csv to Covid Data.csv\n"
          ]
        }
      ]
    },
    {
      "cell_type": "code",
      "source": [
        "covid = pd.read_csv(\"Covid Data.csv\", low_memory = False)\n",
        "print(covid.shape)\n",
        "covid.head()"
      ],
      "metadata": {
        "colab": {
          "base_uri": "https://localhost:8080/",
          "height": 288
        },
        "id": "p7xN3cAQGoic",
        "outputId": "e14f7ad5-6186-4b7a-9f65-643746bcc0ab"
      },
      "execution_count": null,
      "outputs": [
        {
          "output_type": "stream",
          "name": "stdout",
          "text": [
            "(1048575, 21)\n"
          ]
        },
        {
          "output_type": "execute_result",
          "data": {
            "text/plain": [
              "   USMER  MEDICAL_UNIT  SEX  PATIENT_TYPE   DATE_DIED  INTUBED  PNEUMONIA  \\\n",
              "0      2             1    1             1  03/05/2020       97          1   \n",
              "1      2             1    2             1  03/06/2020       97          1   \n",
              "2      2             1    2             2  09/06/2020        1          2   \n",
              "3      2             1    1             1  12/06/2020       97          2   \n",
              "4      2             1    2             1  21/06/2020       97          2   \n",
              "\n",
              "   AGE  PREGNANT  DIABETES  COPD  ASTHMA  INMSUPR  HIPERTENSION  \\\n",
              "0   65         2         2     2       2        2             1   \n",
              "1   72        97         2     2       2        2             1   \n",
              "2   55        97         1     2       2        2             2   \n",
              "3   53         2         2     2       2        2             2   \n",
              "4   68        97         1     2       2        2             1   \n",
              "\n",
              "   OTHER_DISEASE  CARDIOVASCULAR  OBESITY  RENAL_CHRONIC  TOBACCO  \\\n",
              "0              2               2        2              2        2   \n",
              "1              2               2        1              1        2   \n",
              "2              2               2        2              2        2   \n",
              "3              2               2        2              2        2   \n",
              "4              2               2        2              2        2   \n",
              "\n",
              "   CLASIFFICATION_FINAL  ICU  \n",
              "0                     3   97  \n",
              "1                     5   97  \n",
              "2                     3    2  \n",
              "3                     7   97  \n",
              "4                     3   97  "
            ],
            "text/html": [
              "\n",
              "  <div id=\"df-814b9eee-3ff7-4cb8-9956-bfab24c8a81c\">\n",
              "    <div class=\"colab-df-container\">\n",
              "      <div>\n",
              "<style scoped>\n",
              "    .dataframe tbody tr th:only-of-type {\n",
              "        vertical-align: middle;\n",
              "    }\n",
              "\n",
              "    .dataframe tbody tr th {\n",
              "        vertical-align: top;\n",
              "    }\n",
              "\n",
              "    .dataframe thead th {\n",
              "        text-align: right;\n",
              "    }\n",
              "</style>\n",
              "<table border=\"1\" class=\"dataframe\">\n",
              "  <thead>\n",
              "    <tr style=\"text-align: right;\">\n",
              "      <th></th>\n",
              "      <th>USMER</th>\n",
              "      <th>MEDICAL_UNIT</th>\n",
              "      <th>SEX</th>\n",
              "      <th>PATIENT_TYPE</th>\n",
              "      <th>DATE_DIED</th>\n",
              "      <th>INTUBED</th>\n",
              "      <th>PNEUMONIA</th>\n",
              "      <th>AGE</th>\n",
              "      <th>PREGNANT</th>\n",
              "      <th>DIABETES</th>\n",
              "      <th>COPD</th>\n",
              "      <th>ASTHMA</th>\n",
              "      <th>INMSUPR</th>\n",
              "      <th>HIPERTENSION</th>\n",
              "      <th>OTHER_DISEASE</th>\n",
              "      <th>CARDIOVASCULAR</th>\n",
              "      <th>OBESITY</th>\n",
              "      <th>RENAL_CHRONIC</th>\n",
              "      <th>TOBACCO</th>\n",
              "      <th>CLASIFFICATION_FINAL</th>\n",
              "      <th>ICU</th>\n",
              "    </tr>\n",
              "  </thead>\n",
              "  <tbody>\n",
              "    <tr>\n",
              "      <th>0</th>\n",
              "      <td>2</td>\n",
              "      <td>1</td>\n",
              "      <td>1</td>\n",
              "      <td>1</td>\n",
              "      <td>03/05/2020</td>\n",
              "      <td>97</td>\n",
              "      <td>1</td>\n",
              "      <td>65</td>\n",
              "      <td>2</td>\n",
              "      <td>2</td>\n",
              "      <td>2</td>\n",
              "      <td>2</td>\n",
              "      <td>2</td>\n",
              "      <td>1</td>\n",
              "      <td>2</td>\n",
              "      <td>2</td>\n",
              "      <td>2</td>\n",
              "      <td>2</td>\n",
              "      <td>2</td>\n",
              "      <td>3</td>\n",
              "      <td>97</td>\n",
              "    </tr>\n",
              "    <tr>\n",
              "      <th>1</th>\n",
              "      <td>2</td>\n",
              "      <td>1</td>\n",
              "      <td>2</td>\n",
              "      <td>1</td>\n",
              "      <td>03/06/2020</td>\n",
              "      <td>97</td>\n",
              "      <td>1</td>\n",
              "      <td>72</td>\n",
              "      <td>97</td>\n",
              "      <td>2</td>\n",
              "      <td>2</td>\n",
              "      <td>2</td>\n",
              "      <td>2</td>\n",
              "      <td>1</td>\n",
              "      <td>2</td>\n",
              "      <td>2</td>\n",
              "      <td>1</td>\n",
              "      <td>1</td>\n",
              "      <td>2</td>\n",
              "      <td>5</td>\n",
              "      <td>97</td>\n",
              "    </tr>\n",
              "    <tr>\n",
              "      <th>2</th>\n",
              "      <td>2</td>\n",
              "      <td>1</td>\n",
              "      <td>2</td>\n",
              "      <td>2</td>\n",
              "      <td>09/06/2020</td>\n",
              "      <td>1</td>\n",
              "      <td>2</td>\n",
              "      <td>55</td>\n",
              "      <td>97</td>\n",
              "      <td>1</td>\n",
              "      <td>2</td>\n",
              "      <td>2</td>\n",
              "      <td>2</td>\n",
              "      <td>2</td>\n",
              "      <td>2</td>\n",
              "      <td>2</td>\n",
              "      <td>2</td>\n",
              "      <td>2</td>\n",
              "      <td>2</td>\n",
              "      <td>3</td>\n",
              "      <td>2</td>\n",
              "    </tr>\n",
              "    <tr>\n",
              "      <th>3</th>\n",
              "      <td>2</td>\n",
              "      <td>1</td>\n",
              "      <td>1</td>\n",
              "      <td>1</td>\n",
              "      <td>12/06/2020</td>\n",
              "      <td>97</td>\n",
              "      <td>2</td>\n",
              "      <td>53</td>\n",
              "      <td>2</td>\n",
              "      <td>2</td>\n",
              "      <td>2</td>\n",
              "      <td>2</td>\n",
              "      <td>2</td>\n",
              "      <td>2</td>\n",
              "      <td>2</td>\n",
              "      <td>2</td>\n",
              "      <td>2</td>\n",
              "      <td>2</td>\n",
              "      <td>2</td>\n",
              "      <td>7</td>\n",
              "      <td>97</td>\n",
              "    </tr>\n",
              "    <tr>\n",
              "      <th>4</th>\n",
              "      <td>2</td>\n",
              "      <td>1</td>\n",
              "      <td>2</td>\n",
              "      <td>1</td>\n",
              "      <td>21/06/2020</td>\n",
              "      <td>97</td>\n",
              "      <td>2</td>\n",
              "      <td>68</td>\n",
              "      <td>97</td>\n",
              "      <td>1</td>\n",
              "      <td>2</td>\n",
              "      <td>2</td>\n",
              "      <td>2</td>\n",
              "      <td>1</td>\n",
              "      <td>2</td>\n",
              "      <td>2</td>\n",
              "      <td>2</td>\n",
              "      <td>2</td>\n",
              "      <td>2</td>\n",
              "      <td>3</td>\n",
              "      <td>97</td>\n",
              "    </tr>\n",
              "  </tbody>\n",
              "</table>\n",
              "</div>\n",
              "      <button class=\"colab-df-convert\" onclick=\"convertToInteractive('df-814b9eee-3ff7-4cb8-9956-bfab24c8a81c')\"\n",
              "              title=\"Convert this dataframe to an interactive table.\"\n",
              "              style=\"display:none;\">\n",
              "        \n",
              "  <svg xmlns=\"http://www.w3.org/2000/svg\" height=\"24px\"viewBox=\"0 0 24 24\"\n",
              "       width=\"24px\">\n",
              "    <path d=\"M0 0h24v24H0V0z\" fill=\"none\"/>\n",
              "    <path d=\"M18.56 5.44l.94 2.06.94-2.06 2.06-.94-2.06-.94-.94-2.06-.94 2.06-2.06.94zm-11 1L8.5 8.5l.94-2.06 2.06-.94-2.06-.94L8.5 2.5l-.94 2.06-2.06.94zm10 10l.94 2.06.94-2.06 2.06-.94-2.06-.94-.94-2.06-.94 2.06-2.06.94z\"/><path d=\"M17.41 7.96l-1.37-1.37c-.4-.4-.92-.59-1.43-.59-.52 0-1.04.2-1.43.59L10.3 9.45l-7.72 7.72c-.78.78-.78 2.05 0 2.83L4 21.41c.39.39.9.59 1.41.59.51 0 1.02-.2 1.41-.59l7.78-7.78 2.81-2.81c.8-.78.8-2.07 0-2.86zM5.41 20L4 18.59l7.72-7.72 1.47 1.35L5.41 20z\"/>\n",
              "  </svg>\n",
              "      </button>\n",
              "      \n",
              "  <style>\n",
              "    .colab-df-container {\n",
              "      display:flex;\n",
              "      flex-wrap:wrap;\n",
              "      gap: 12px;\n",
              "    }\n",
              "\n",
              "    .colab-df-convert {\n",
              "      background-color: #E8F0FE;\n",
              "      border: none;\n",
              "      border-radius: 50%;\n",
              "      cursor: pointer;\n",
              "      display: none;\n",
              "      fill: #1967D2;\n",
              "      height: 32px;\n",
              "      padding: 0 0 0 0;\n",
              "      width: 32px;\n",
              "    }\n",
              "\n",
              "    .colab-df-convert:hover {\n",
              "      background-color: #E2EBFA;\n",
              "      box-shadow: 0px 1px 2px rgba(60, 64, 67, 0.3), 0px 1px 3px 1px rgba(60, 64, 67, 0.15);\n",
              "      fill: #174EA6;\n",
              "    }\n",
              "\n",
              "    [theme=dark] .colab-df-convert {\n",
              "      background-color: #3B4455;\n",
              "      fill: #D2E3FC;\n",
              "    }\n",
              "\n",
              "    [theme=dark] .colab-df-convert:hover {\n",
              "      background-color: #434B5C;\n",
              "      box-shadow: 0px 1px 3px 1px rgba(0, 0, 0, 0.15);\n",
              "      filter: drop-shadow(0px 1px 2px rgba(0, 0, 0, 0.3));\n",
              "      fill: #FFFFFF;\n",
              "    }\n",
              "  </style>\n",
              "\n",
              "      <script>\n",
              "        const buttonEl =\n",
              "          document.querySelector('#df-814b9eee-3ff7-4cb8-9956-bfab24c8a81c button.colab-df-convert');\n",
              "        buttonEl.style.display =\n",
              "          google.colab.kernel.accessAllowed ? 'block' : 'none';\n",
              "\n",
              "        async function convertToInteractive(key) {\n",
              "          const element = document.querySelector('#df-814b9eee-3ff7-4cb8-9956-bfab24c8a81c');\n",
              "          const dataTable =\n",
              "            await google.colab.kernel.invokeFunction('convertToInteractive',\n",
              "                                                     [key], {});\n",
              "          if (!dataTable) return;\n",
              "\n",
              "          const docLinkHtml = 'Like what you see? Visit the ' +\n",
              "            '<a target=\"_blank\" href=https://colab.research.google.com/notebooks/data_table.ipynb>data table notebook</a>'\n",
              "            + ' to learn more about interactive tables.';\n",
              "          element.innerHTML = '';\n",
              "          dataTable['output_type'] = 'display_data';\n",
              "          await google.colab.output.renderOutput(dataTable, element);\n",
              "          const docLink = document.createElement('div');\n",
              "          docLink.innerHTML = docLinkHtml;\n",
              "          element.appendChild(docLink);\n",
              "        }\n",
              "      </script>\n",
              "    </div>\n",
              "  </div>\n",
              "  "
            ]
          },
          "metadata": {},
          "execution_count": 5
        }
      ]
    },
    {
      "cell_type": "code",
      "source": [
        "#Cleaning the data to keep only the rows containing 1, 2. values as 97 and 99 are missing data"
      ],
      "metadata": {
        "id": "T-55CWilHGiK"
      },
      "execution_count": null,
      "outputs": []
    },
    {
      "cell_type": "code",
      "source": [
        "covid = covid.loc[(covid.CLASIFFICATION_FINAL < 4)]\n",
        "covid = covid.loc[(covid.SEX == 1) | (covid.SEX == 2)]\n",
        "covid = covid.loc[(covid.USMER == 1) | (covid.USMER == 2)]\n",
        "covid = covid.loc[(covid.PATIENT_TYPE == 1) | (covid.PATIENT_TYPE == 2)]\n",
        "covid = covid.loc[(covid.PNEUMONIA == 1) | (covid.PNEUMONIA == 2)]\n",
        "covid = covid.loc[(covid.DIABETES == 1) | (covid.DIABETES == 2)]\n",
        "covid = covid.loc[(covid.COPD == 1) | (covid.COPD == 2)]\n",
        "covid = covid.loc[(covid.ASTHMA == 1) | (covid.ASTHMA == 2)]\n",
        "covid = covid.loc[(covid.INMSUPR == 1) | (covid.INMSUPR == 2)]\n",
        "covid = covid.loc[(covid.HIPERTENSION == 1) | (covid.HIPERTENSION == 2)]\n",
        "covid = covid.loc[(covid.OTHER_DISEASE == 1) | (covid.OTHER_DISEASE == 2)]\n",
        "covid = covid.loc[(covid.CARDIOVASCULAR == 1) | (covid.CARDIOVASCULAR == 2)]\n",
        "covid = covid.loc[(covid.OBESITY == 1) | (covid.OBESITY == 2)]\n",
        "covid = covid.loc[(covid.RENAL_CHRONIC == 1) | (covid.RENAL_CHRONIC == 2)]\n",
        "covid = covid.loc[(covid.TOBACCO == 1) | (covid.TOBACCO == 2)]\n",
        "covid.shape"
      ],
      "metadata": {
        "colab": {
          "base_uri": "https://localhost:8080/"
        },
        "id": "8fKej6xzGwBr",
        "outputId": "f471493b-27af-431b-c8fa-6af689a9de68"
      },
      "execution_count": null,
      "outputs": [
        {
          "output_type": "execute_result",
          "data": {
            "text/plain": [
              "(388878, 21)"
            ]
          },
          "metadata": {},
          "execution_count": 6
        }
      ]
    },
    {
      "cell_type": "code",
      "source": [
        "#Modifying data to get it converted to One Hot Encoded data"
      ],
      "metadata": {
        "id": "eZrLxh-6HJNJ"
      },
      "execution_count": null,
      "outputs": []
    },
    {
      "cell_type": "code",
      "source": [
        "covid.SEX = covid.SEX.apply(lambda x: x if x == 1 else 0)  \n",
        "covid.USMER = covid.USMER.apply(lambda x: x if x == 1 else 0)                     # no = 0, yes = 1\n",
        "covid.PATIENT_TYPE = covid.PATIENT_TYPE.apply(lambda x: 0 if x == 1 else 1)     \n",
        "covid.PNEUMONIA = covid.PNEUMONIA.apply(lambda x: x if x == 1 else 0)           \n",
        "covid.DIABETES = covid.DIABETES.apply(lambda x: x if x == 1 else 0)             \n",
        "covid.COPD = covid.COPD.apply(lambda x: x if x == 1 else 0)                     \n",
        "covid.ASTHMA = covid.ASTHMA.apply(lambda x: x if x == 1 else 0)                 \n",
        "covid.INMSUPR = covid.INMSUPR.apply(lambda x: x if x == 1 else 0)               \n",
        "covid.HIPERTENSION = covid.HIPERTENSION.apply(lambda x: x if x == 1 else 0)     \n",
        "covid.OTHER_DISEASE = covid.OTHER_DISEASE.apply(lambda x: x if x == 1 else -0)  \n",
        "covid.CARDIOVASCULAR = covid.CARDIOVASCULAR.apply(lambda x: x if x == 1 else 0) \n",
        "covid.OBESITY = covid.OBESITY.apply(lambda x: x if x == 1 else 0)               \n",
        "covid.RENAL_CHRONIC = covid.RENAL_CHRONIC.apply(lambda x: x if x == 1 else 0)   \n",
        "covid.TOBACCO = covid.TOBACCO.apply(lambda x: x if x == 1 else 0)               \n",
        "covid.DATE_DIED = covid.DATE_DIED.apply(lambda x: 0 if x == \"9999-99-99\" else 1)\n",
        "covid.PREGNANT = covid.PREGNANT.apply(lambda x: x if x == 1 else 0)           \n",
        "covid.INTUBED = covid.INTUBED.apply(lambda x: x if x == 1 else 0)                   \n",
        "covid.ICU = covid.ICU.apply(lambda x: x if x == 1 else 0)"
      ],
      "metadata": {
        "id": "I0-dOGQIG-8z"
      },
      "execution_count": null,
      "outputs": []
    },
    {
      "cell_type": "code",
      "source": [
        "#Divide age column to 8 age groups"
      ],
      "metadata": {
        "id": "R-twmtQ7HP1Y"
      },
      "execution_count": null,
      "outputs": []
    },
    {
      "cell_type": "code",
      "source": [
        "for i in range(1,9):\n",
        "    covid['age_group_%d' %i] = covid['AGE']\n",
        "    covid['age_group_%d' %i]  = covid['age_group_%d' %i].apply(lambda x: 1 if (x>=(i-1)*15 and x<i*15) else 0) "
      ],
      "metadata": {
        "id": "0vHBS51MHWlt"
      },
      "execution_count": null,
      "outputs": []
    },
    {
      "cell_type": "code",
      "source": [
        "#Creating the label column from summing three columns of the data. This column represents whether the patient is at risk from covid."
      ],
      "metadata": {
        "id": "_SaYl8riHbar"
      },
      "execution_count": null,
      "outputs": []
    },
    {
      "cell_type": "code",
      "source": [
        "covid['AT_RISK'] = covid['DATE_DIED'] + covid['INTUBED'] + covid['ICU']\n",
        "covid.AT_RISK = covid.AT_RISK.apply(lambda x: 1 if x > 0 else 0) "
      ],
      "metadata": {
        "id": "ngGogHFFHdIR"
      },
      "execution_count": null,
      "outputs": []
    },
    {
      "cell_type": "code",
      "source": [
        "#Drop a few columns which are intuitively not longer useful"
      ],
      "metadata": {
        "id": "NHPy-oZIHf3b"
      },
      "execution_count": null,
      "outputs": []
    },
    {
      "cell_type": "code",
      "source": [
        "covid.drop(columns = ['CLASIFFICATION_FINAL', 'INTUBED', 'ICU', 'DATE_DIED'], inplace=True)\n",
        "covid.info()"
      ],
      "metadata": {
        "colab": {
          "base_uri": "https://localhost:8080/"
        },
        "id": "9L5eZN6dHkIn",
        "outputId": "17282328-7089-4602-e69d-23f0ced6ad22"
      },
      "execution_count": null,
      "outputs": [
        {
          "output_type": "stream",
          "name": "stdout",
          "text": [
            "<class 'pandas.core.frame.DataFrame'>\n",
            "Int64Index: 388878 entries, 0 to 1047937\n",
            "Data columns (total 26 columns):\n",
            " #   Column          Non-Null Count   Dtype\n",
            "---  ------          --------------   -----\n",
            " 0   USMER           388878 non-null  int64\n",
            " 1   MEDICAL_UNIT    388878 non-null  int64\n",
            " 2   SEX             388878 non-null  int64\n",
            " 3   PATIENT_TYPE    388878 non-null  int64\n",
            " 4   PNEUMONIA       388878 non-null  int64\n",
            " 5   AGE             388878 non-null  int64\n",
            " 6   PREGNANT        388878 non-null  int64\n",
            " 7   DIABETES        388878 non-null  int64\n",
            " 8   COPD            388878 non-null  int64\n",
            " 9   ASTHMA          388878 non-null  int64\n",
            " 10  INMSUPR         388878 non-null  int64\n",
            " 11  HIPERTENSION    388878 non-null  int64\n",
            " 12  OTHER_DISEASE   388878 non-null  int64\n",
            " 13  CARDIOVASCULAR  388878 non-null  int64\n",
            " 14  OBESITY         388878 non-null  int64\n",
            " 15  RENAL_CHRONIC   388878 non-null  int64\n",
            " 16  TOBACCO         388878 non-null  int64\n",
            " 17  age_group_1     388878 non-null  int64\n",
            " 18  age_group_2     388878 non-null  int64\n",
            " 19  age_group_3     388878 non-null  int64\n",
            " 20  age_group_4     388878 non-null  int64\n",
            " 21  age_group_5     388878 non-null  int64\n",
            " 22  age_group_6     388878 non-null  int64\n",
            " 23  age_group_7     388878 non-null  int64\n",
            " 24  age_group_8     388878 non-null  int64\n",
            " 25  AT_RISK         388878 non-null  int64\n",
            "dtypes: int64(26)\n",
            "memory usage: 80.1 MB\n"
          ]
        }
      ]
    },
    {
      "cell_type": "code",
      "source": [
        "#Check if the data is balanced"
      ],
      "metadata": {
        "id": "wa4ht25cHnKN"
      },
      "execution_count": null,
      "outputs": []
    },
    {
      "cell_type": "code",
      "source": [
        "slices = [covid.shape[0], covid['AT_RISK'].sum()]\n",
        "labels = ['Low risk', 'High risk']\n",
        "explode = [0, 0.1]\n",
        "\n",
        "plt.pie(slices, labels=labels, explode=explode, shadow=True,\n",
        "        startangle=90, autopct='%1.1f%%',\n",
        "        wedgeprops={'edgecolor': 'black'})\n",
        "\n",
        "plt.title(\"High risk patients rate\")\n",
        "plt.show()"
      ],
      "metadata": {
        "colab": {
          "base_uri": "https://localhost:8080/",
          "height": 264
        },
        "id": "Zv-MBa7SHt26",
        "outputId": "3827b9d2-03e0-4c42-cb57-63999362e18b"
      },
      "execution_count": null,
      "outputs": [
        {
          "output_type": "display_data",
          "data": {
            "text/plain": [
              "<Figure size 432x288 with 1 Axes>"
            ],
            "image/png": "[encoded data removed]"
          },
          "metadata": {}
        }
      ]
    },
    {
      "cell_type": "markdown",
      "source": [
        "Only 13.4% of the patients in the clean data are considered at risk while the rest of the patients are not at risk. As a result, we can not measure the quality of a model by its accuracy on the validation set. Instead, we measure the quality of a model by F-measure, also called F1-score.\n",
        "\n",
        "To adress this issue we will use \"Loss Function Intervention\" technique. In the loss function, this technique multiplies the percentage of error on the minority class by constant C, which is the ratio between the number of objects in the data and the number of objects in the minority class."
      ],
      "metadata": {
        "id": "ELQ6k6DgHzGD"
      }
    },
    {
      "cell_type": "code",
      "source": [
        "#Split the data to train (90%), validation (5%) and test (5%)"
      ],
      "metadata": {
        "id": "QkT5RUEjH2d7"
      },
      "execution_count": null,
      "outputs": []
    },
    {
      "cell_type": "code",
      "source": [
        "train, validation = train_test_split(covid, test_size=0.1, shuffle=True)\n",
        "validation, test = train_test_split(validation, test_size=0.5, shuffle=True)\n",
        "\n",
        "train_y = train.AT_RISK.to_numpy()\n",
        "train_y = np.reshape(train_y, (len(train_y), 1))\n",
        "train_x = train.drop(columns = ['AT_RISK']).to_numpy()\n",
        "\n",
        "validation_y = validation.AT_RISK.to_numpy()\n",
        "validation_y = np.reshape(validation_y, (len(validation_y), 1))\n",
        "validation_x = validation.drop(columns = ['AT_RISK']).to_numpy()\n",
        "\n",
        "test_y = test.AT_RISK.to_numpy()\n",
        "test_y = np.reshape(test_y, (len(test_y), 1))\n",
        "test_x = test.drop(columns = ['AT_RISK']).to_numpy()"
      ],
      "metadata": {
        "id": "Os2IWAUmH7Ec"
      },
      "execution_count": null,
      "outputs": []
    },
    {
      "cell_type": "markdown",
      "source": [
        "Logistic Regression"
      ],
      "metadata": {
        "id": "wSOHhOEZIGef"
      }
    },
    {
      "cell_type": "code",
      "source": [
        "#Set logistic regression model with \"Loss Function Intervention\" technique."
      ],
      "metadata": {
        "id": "eFQjmd6LH8S_"
      },
      "execution_count": null,
      "outputs": []
    },
    {
      "cell_type": "code",
      "source": [
        "features = train_x.shape[1]\n",
        "x = tf.placeholder(tf.float32, [None,features])\n",
        "y_hat = tf.placeholder(tf.float32, [None,1])\n",
        "\n",
        "W = tf.Variable(tf.zeros([features,1]))\n",
        "b = tf.Variable(tf.zeros([1]))\n",
        "z = tf.add(tf.matmul(x,W),b)\n",
        "p = tf.nn.sigmoid(z)\n",
        "\n",
        "# Loss function - Equivalent to 1/m(y_hat*-log(sigmoid(z))*c + (1-y_hat)*-log(1-sigmoid(z)))\n",
        "c = (len(train_y)/np.count_nonzero(train_y == 1))\n",
        "loss = tf.reduce_mean(tf.nn.weighted_cross_entropy_with_logits(y_hat, z, c))"
      ],
      "metadata": {
        "id": "N71QWaJjIAgx"
      },
      "execution_count": null,
      "outputs": []
    },
    {
      "cell_type": "code",
      "source": [
        "#Train and print loss each 100 iteration"
      ],
      "metadata": {
        "id": "b0Z98OOKIEkp"
      },
      "execution_count": null,
      "outputs": []
    },
    {
      "cell_type": "code",
      "source": [
        "update = tf.train.AdamOptimizer(0.01).minimize(loss)\n",
        "sess = tf.Session() \n",
        "sess.run(tf.global_variables_initializer()) \n",
        "\n",
        "for i in range(0,1000): \n",
        "    sess.run(update, feed_dict = {x:train_x, y_hat:train_y})\n",
        "    if(i % 100 == 0):\n",
        "        print('iteration: ', i, '\\n loss:', loss.eval(session=sess, feed_dict={x:train_x, y_hat:train_y}))"
      ],
      "metadata": {
        "colab": {
          "base_uri": "https://localhost:8080/"
        },
        "id": "gnKNib5tIQgO",
        "outputId": "13c42675-5231-4491-aab2-b28fd6cf16e8"
      },
      "execution_count": null,
      "outputs": [
        {
          "output_type": "stream",
          "name": "stdout",
          "text": [
            "iteration:  0 \n",
            " loss: 1.5163288\n",
            "iteration:  100 \n",
            " loss: 0.71209437\n",
            "iteration:  200 \n",
            " loss: 0.6078027\n",
            "iteration:  300 \n",
            " loss: 0.57030296\n",
            "iteration:  400 \n",
            " loss: 0.55574363\n",
            "iteration:  500 \n",
            " loss: 0.5496941\n",
            "iteration:  600 \n",
            " loss: 0.54696804\n",
            "iteration:  700 \n",
            " loss: 0.54562634\n",
            "iteration:  800 \n",
            " loss: 0.544901\n",
            "iteration:  900 \n",
            " loss: 0.54446244\n"
          ]
        }
      ]
    },
    {
      "cell_type": "code",
      "source": [
        "#Print results on validation set"
      ],
      "metadata": {
        "id": "rHvF3NC3IdBY"
      },
      "execution_count": null,
      "outputs": []
    },
    {
      "cell_type": "code",
      "source": [
        "print('Logistic Regression - Validation Analysis:')\n",
        "prediction = np.rint(p.eval(session=sess,feed_dict={x:validation_x, y_hat:validation_y}))\n",
        "\n",
        "true_positive, false_positive, false_negative = (1,0,0)\n",
        "# Compares the prediction of each object to its label\n",
        "for i in range(0,len(validation_x)):\n",
        "    if (prediction[i] == 1 and validation_y[i] == 1):\n",
        "        true_positive += 1\n",
        "    elif(prediction[i] == 1 and validation_y[i] == 0):\n",
        "        false_positive += 1\n",
        "    elif(prediction[i] == 0 and validation_y[i] == 1):\n",
        "        false_negative += 1\n",
        "\n",
        "# Calculate and print true positive and false positive precent\n",
        "positive = np.count_nonzero(validation_y == 1)\n",
        "negative = len(validation_y)-positive\n",
        "lr_true_positive = 100*true_positive/positive\n",
        "lr_false_positive = 100*false_positive/negative\n",
        "print('true positive: ', \"{:.1f}\".format(lr_true_positive), '%')\n",
        "print('false positive: ', \"{:.1f}\".format(lr_false_positive), '%')\n",
        "\n",
        "# Calculate and print accuracy and F-measure\n",
        "lr_accuracy = 100*np.sum(prediction == validation_y)/len(validation_y)\n",
        "recall = true_positive / (true_positive + false_negative)\n",
        "precision = true_positive / (true_positive + false_positive)\n",
        "lr_fmeasure = 2*(precision * recall) / (precision + recall)\n",
        "print('Accuracy:', \"{:.1f}\".format(lr_accuracy), '%')\n",
        "print('F-measure: ', \"{:.3f}\".format(lr_fmeasure))"
      ],
      "metadata": {
        "colab": {
          "base_uri": "https://localhost:8080/"
        },
        "id": "ZQBukopyIhHS",
        "outputId": "ad8bcc35-e906-47a5-af85-e29c44b8dff9"
      },
      "execution_count": null,
      "outputs": [
        {
          "output_type": "stream",
          "name": "stdout",
          "text": [
            "Logistic Regression - Validation Analysis:\n",
            "true positive:  92.9 %\n",
            "false positive:  15.3 %\n",
            "Accuracy: 85.9 %\n",
            "F-measure:  0.673\n"
          ]
        }
      ]
    },
    {
      "cell_type": "markdown",
      "source": [
        "Multilayer Perceptron"
      ],
      "metadata": {
        "id": "ER9DmO1xI3I0"
      }
    },
    {
      "cell_type": "code",
      "source": [
        "#Set MLP model with \"Loss Function Intervention\" technique."
      ],
      "metadata": {
        "id": "5LpkvHCKI0xi"
      },
      "execution_count": null,
      "outputs": []
    },
    {
      "cell_type": "code",
      "source": [
        "features = train_x.shape[1]\n",
        "x = tf.placeholder(tf.float32, [None,features])\n",
        "y_hat = tf.placeholder(tf.float32, [None,1])\n",
        "\n",
        "# Decide number of layers and neurons in each layer\n",
        "layers = [50, 20, 10, 5, 1]\n",
        "W = []\n",
        "b = []\n",
        "\n",
        "# create first layer\n",
        "W.append(tf.Variable(tf.truncated_normal([features,layers[0]], stddev=0.1)))\n",
        "b.append(tf.Variable(tf.constant(0.1, shape=[layers[0]])))\n",
        "z = tf.add(tf.matmul(x,W[0]),b[0])\n",
        "a = tf.nn.relu(z)\n",
        "\n",
        "# loop to create the rest of the layers\n",
        "for i in range(1,len(layers)):\n",
        "    W.append(tf.Variable(tf.truncated_normal([layers[i-1], layers[i]], stddev=0.1)))\n",
        "    b.append(tf.Variable(tf.constant(0.1, shape=[layers[i]])))\n",
        "    z = tf.add(tf.matmul(a,W[i]),b[i])\n",
        "    a = tf.nn.relu(z)\n",
        "p = tf.nn.sigmoid(z)\n",
        "\n",
        "c = len(train_y)/np.count_nonzero(train_y == 1)\n",
        "ridge = 0.1*tf.nn.l2_loss(W[-1])\n",
        "# Loss function Equivalent to: 1/m(y_hat*-log(sigmoid(z))*c + (1-y_hat)*-log(1-sigmoid(z))\n",
        "loss = tf.reduce_mean(tf.nn.weighted_cross_entropy_with_logits(y_hat, z, c))"
      ],
      "metadata": {
        "id": "tlAWihGAJCCN"
      },
      "execution_count": null,
      "outputs": []
    },
    {
      "cell_type": "code",
      "source": [
        "#Train and print loss each 100 iteration"
      ],
      "metadata": {
        "id": "QxY3oLb-JHcv"
      },
      "execution_count": null,
      "outputs": []
    },
    {
      "cell_type": "code",
      "source": [
        "update = tf.train.AdamOptimizer(0.01).minimize(loss)\n",
        "sess = tf.Session() \n",
        "sess.run(tf.global_variables_initializer()) \n",
        "\n",
        "for i in range(0,1000): \n",
        "    sess.run(update, feed_dict = {x:train_x, y_hat:train_y})\n",
        "    if(i % 100 == 0): \n",
        "        print('iteration: ', i, '\\n  loss:', loss.eval(session=sess, feed_dict={x:train_x, y_hat:train_y}))"
      ],
      "metadata": {
        "colab": {
          "base_uri": "https://localhost:8080/"
        },
        "id": "9RxOoCL6JItF",
        "outputId": "e0525be4-68a7-4bdc-9f47-45772359f839"
      },
      "execution_count": null,
      "outputs": [
        {
          "output_type": "stream",
          "name": "stdout",
          "text": [
            "iteration:  0 \n",
            "  loss: 1.2690958\n",
            "iteration:  100 \n",
            "  loss: 0.68657434\n",
            "iteration:  200 \n",
            "  loss: 0.5905094\n",
            "iteration:  300 \n",
            "  loss: 0.55467385\n",
            "iteration:  400 \n",
            "  loss: 0.5364518\n",
            "iteration:  500 \n",
            "  loss: 0.52664685\n",
            "iteration:  600 \n",
            "  loss: 0.52127177\n",
            "iteration:  700 \n",
            "  loss: 0.5180695\n",
            "iteration:  800 \n",
            "  loss: 0.51436096\n",
            "iteration:  900 \n",
            "  loss: 0.5113637\n"
          ]
        }
      ]
    },
    {
      "cell_type": "code",
      "source": [
        "#Print results for validation task"
      ],
      "metadata": {
        "id": "ZxKEfKElWP7c"
      },
      "execution_count": 36,
      "outputs": []
    },
    {
      "cell_type": "code",
      "source": [
        "print('Multilayer Perceptron - Validation Analysis:')\n",
        "prediction = np.rint(p.eval(session=sess,feed_dict={x:validation_x, y_hat:validation_y}))\n",
        "\n",
        "# Compares the prediction of each object to its label\n",
        "true_positive, false_positive, false_negative = (1,0,0)\n",
        "for i in range(0,len(validation_x)):\n",
        "    if (prediction[i] == 1 and validation_y[i] == 1):\n",
        "        true_positive += 1\n",
        "    elif(prediction[i] == 1 and validation_y[i] == 0):\n",
        "        false_positive += 1\n",
        "    elif(prediction[i] == 0 and validation_y[i] == 1):\n",
        "        false_negative += 1\n",
        "\n",
        "# Calculate and print true positive and false positive precent\n",
        "positive = np.count_nonzero(validation_y == 1)\n",
        "negative = len(validation_y)-positive\n",
        "mlp_true_positive = 100*true_positive/positive\n",
        "mlp_false_positive = 100*false_positive/negative\n",
        "print('true positive: ', \"{:.1f}\".format(mlp_true_positive), '%')\n",
        "print('false positive: ', \"{:.1f}\".format(mlp_false_positive), '%')\n",
        "\n",
        "# Calculate and print accuracy and F-measure\n",
        "mlp_accuracy = 100*np.sum(prediction == validation_y)/len(validation_y)\n",
        "recall = true_positive / (true_positive + false_negative)\n",
        "precision = true_positive / (true_positive + false_positive)\n",
        "mlp_fmeasure = 2*(precision * recall) / (precision + recall)\n",
        "print('Accuracy:', \"{:.1f}\".format(mlp_accuracy), '%')\n",
        "print('F-measure: ', \"{:.3f}\".format(mlp_fmeasure))"
      ],
      "metadata": {
        "colab": {
          "base_uri": "https://localhost:8080/"
        },
        "id": "dyqJqNiDWajh",
        "outputId": "74ffed90-f354-486d-be8c-2e538e927943"
      },
      "execution_count": 37,
      "outputs": [
        {
          "output_type": "stream",
          "name": "stdout",
          "text": [
            "Multilayer Perceptron - Validation Analysis:\n",
            "true positive:  95.6 %\n",
            "false positive:  16.8 %\n",
            "Accuracy: 85.1 %\n",
            "F-measure:  0.667\n"
          ]
        }
      ]
    },
    {
      "cell_type": "markdown",
      "source": [
        "**Convolutional Neural Network**-CNN"
      ],
      "metadata": {
        "id": "Q64ukq-qWdla"
      }
    },
    {
      "cell_type": "code",
      "source": [
        "features = train_x.shape[1]\n",
        "x = tf.placeholder(tf.float32, shape=[None, features])\n",
        "y_hat = tf.placeholder(tf.float32, shape=[None, 1])\n",
        "\n",
        "# convolution layer with max pooling\n",
        "W_conv = tf.Variable(tf.truncated_normal([2, 2, 1, 4], stddev=0.1))\n",
        "b_conv = tf.Variable(tf.constant(0.1, shape=[4]))\n",
        "x_ = tf.reshape(x, [-1,5,5,1]) \n",
        "h_conv = tf.nn.relu(tf.nn.conv2d(x_, W_conv, strides=[1, 1, 1, 1], padding='SAME') + b_conv)\n",
        "h_pool = tf.nn.max_pool(h_conv, ksize=[1, 2, 2, 1], strides=[1, 1, 1, 1], padding='SAME')\n",
        "\n",
        "# 2 fully connected layers\n",
        "h_flat = tf.reshape(h_pool, [-1, 5*5*4])\n",
        "W_fc1 = tf.Variable(tf.truncated_normal([5*5*4, 10], stddev=0.1))\n",
        "b_fc1 = tf.Variable(tf.constant(0.1, shape=[10]))\n",
        "h_fc1 = tf.nn.relu(tf.matmul(h_flat, W_fc1) + b_fc1)\n",
        "\n",
        "W_fc2 = tf.Variable(tf.truncated_normal([10, 1], stddev=0.1))\n",
        "b_fc2 = tf.Variable(tf.constant(0.1, shape=[1]))\n",
        "h_fc2 = tf.add(tf.matmul(h_fc1,W_fc2),b_fc2)\n",
        "y_conv = tf.nn.sigmoid(h_fc2)\n",
        "\n",
        "c = (len(train_y)/np.count_nonzero(train_y == 1))\n",
        "ridge = + 0.1*tf.nn.l2_loss(W_fc2)\n",
        "# Loss function - Equivalent to 1/m(y_hat*-log(sigmoid(z))*c + (1-y_hat)*-log(1-sigmoid(z))\n",
        "loss = tf.reduce_mean(tf.nn.weighted_cross_entropy_with_logits(y_hat, h_fc2, c))+ridge"
      ],
      "metadata": {
        "id": "pCJRozugWj_X"
      },
      "execution_count": 38,
      "outputs": []
    },
    {
      "cell_type": "code",
      "source": [
        "#Train and print loss each 100 iteration"
      ],
      "metadata": {
        "id": "C1H7tmCyWtNo"
      },
      "execution_count": 39,
      "outputs": []
    },
    {
      "cell_type": "code",
      "source": [
        "update = tf.train.AdamOptimizer(1e-2).minimize(loss)\n",
        "sess = tf.Session() \n",
        "sess.run(tf.global_variables_initializer()) \n",
        "\n",
        "for i in range(0,500): \n",
        "    sess.run(update, feed_dict = {x:train_x, y_hat:train_y})\n",
        "    if(i % 100 == 0):\n",
        "        print('iteration: ', i, '\\n  loss:', loss.eval(session=sess, feed_dict={x:train_x, y_hat:train_y}))"
      ],
      "metadata": {
        "colab": {
          "base_uri": "https://localhost:8080/"
        },
        "id": "v5l__H6aWxVA",
        "outputId": "184b0907-b606-43f6-d683-9c81610977e4"
      },
      "execution_count": 40,
      "outputs": [
        {
          "output_type": "stream",
          "name": "stdout",
          "text": [
            "iteration:  0 \n",
            "  loss: 1.2700896\n",
            "iteration:  100 \n",
            "  loss: 0.573846\n",
            "iteration:  200 \n",
            "  loss: 0.5513669\n",
            "iteration:  300 \n",
            "  loss: 0.54379463\n",
            "iteration:  400 \n",
            "  loss: 0.5400966\n"
          ]
        }
      ]
    },
    {
      "cell_type": "code",
      "source": [
        "#Auxilary function to count specific elements in tensors"
      ],
      "metadata": {
        "id": "WNEXbpH6bHr7"
      },
      "execution_count": 41,
      "outputs": []
    },
    {
      "cell_type": "code",
      "source": [
        "def tf_count(t, val):\n",
        "    elements_equal_to_value = tf.equal(t, val)\n",
        "    as_ints = tf.cast(elements_equal_to_value, tf.int32)\n",
        "    count = tf.reduce_sum(as_ints)\n",
        "    return count"
      ],
      "metadata": {
        "id": "1f6t6GVqbLtf"
      },
      "execution_count": 42,
      "outputs": []
    },
    {
      "cell_type": "code",
      "source": [
        "#calculate confusion matrix values, accuracy and F-measure"
      ],
      "metadata": {
        "id": "QnmEfd90bPlE"
      },
      "execution_count": 43,
      "outputs": []
    },
    {
      "cell_type": "code",
      "source": [
        "prediction = tf.round(y_conv)\n",
        "all = tf_count(y_hat,1)+tf_count(y_hat,0)\n",
        "positive = tf_count(y_hat,1)\n",
        "negative = all-positive\n",
        "\n",
        "# calculate confusion matrix values\n",
        "true_positive = tf_count(tf.add(prediction,y_hat),2)\n",
        "false_positive = tf_count(tf.subtract(prediction,y_hat),1)\n",
        "false_negative = tf_count(tf.subtract(y_hat,prediction),1)\n",
        "counter = tf_count(tf.subtract(y_hat,prediction),0)\n",
        "tp = 100*true_positive / positive\n",
        "fp = 100*false_positive / negative\n",
        "\n",
        "# calculate accuracy and F-measure\n",
        "accuracy = 100*counter / all\n",
        "recall = true_positive / (true_positive + false_negative)\n",
        "precision = true_positive / (true_positive + false_positive)\n",
        "eval = 2*(precision * recall) / (precision + recall)"
      ],
      "metadata": {
        "id": "v8BGQvQrbSW_"
      },
      "execution_count": 44,
      "outputs": []
    },
    {
      "cell_type": "code",
      "source": [
        "#Print results for validation set"
      ],
      "metadata": {
        "id": "-KLgKEjqbVXa"
      },
      "execution_count": 45,
      "outputs": []
    },
    {
      "cell_type": "code",
      "source": [
        "print('CNN - Validation Analysis:')\n",
        "\n",
        "cnn_true_positive = tp.eval(session=sess,feed_dict={x:validation_x, y_hat:validation_y})\n",
        "cnn_false_positive = fp.eval(session=sess,feed_dict={x:validation_x, y_hat:validation_y})\n",
        "cnn_accuracy = accuracy.eval(session=sess,feed_dict={x:validation_x, y_hat:validation_y})\n",
        "cnn_fmeasure = eval.eval(session=sess,feed_dict={x:validation_x, y_hat:validation_y})\n",
        "print('true positive:', \"{:.1f}\".format(cnn_true_positive), '%')\n",
        "print('false positive:', \"{:.1f}\".format(cnn_false_positive), '%')\n",
        "print('Accuracy:', \"{:.1f}\".format(cnn_accuracy), '%')\n",
        "print('F-measure: ', \"{:.3f}\".format(cnn_fmeasure))"
      ],
      "metadata": {
        "colab": {
          "base_uri": "https://localhost:8080/"
        },
        "id": "ocLKM-xQbYWZ",
        "outputId": "a623361a-a365-4d46-9ca2-5a72b9fbcc10"
      },
      "execution_count": 46,
      "outputs": [
        {
          "output_type": "stream",
          "name": "stdout",
          "text": [
            "CNN - Validation Analysis:\n",
            "true positive: 94.7 %\n",
            "false positive: 16.8 %\n",
            "Accuracy: 85.0 %\n",
            "F-measure:  0.663\n"
          ]
        }
      ]
    },
    {
      "cell_type": "markdown",
      "source": [
        "**Model Comparison**-->Logistic Regression || MLP || CNN"
      ],
      "metadata": {
        "id": "ikvwow78bcYN"
      }
    },
    {
      "cell_type": "code",
      "source": [
        "#Plot comparison between the 3 models."
      ],
      "metadata": {
        "id": "UojtoQhEbpcN"
      },
      "execution_count": 47,
      "outputs": []
    },
    {
      "cell_type": "code",
      "source": [
        "models = ['Logistic Regression', 'MLP', 'CNN']\n",
        "true_positive = [lr_true_positive, mlp_true_positive, cnn_true_positive]\n",
        "false_positive = [lr_false_positive, mlp_false_positive, cnn_false_positive]\n",
        "overall_accuracy = [lr_accuracy, mlp_accuracy, cnn_accuracy]\n",
        "f_measure = [lr_fmeasure, mlp_fmeasure, cnn_fmeasure]"
      ],
      "metadata": {
        "id": "YKpZfu54bz8r"
      },
      "execution_count": 51,
      "outputs": []
    },
    {
      "cell_type": "code",
      "source": [
        "fig, ax = plt.subplots(2,2, figsize = (15,10))\n",
        "plt.subplots_adjust(wspace = 0.3)\n",
        "sns.barplot(x=models, y=true_positive, ax = ax[0,0])\n",
        "sns.barplot(x=models, y=false_positive, ax = ax[0,1])\n",
        "sns.barplot(x=models, y=overall_accuracy, ax = ax[1,0])\n",
        "sns.barplot(x=models, y=f_measure, ax = ax[1,1])\n",
        "\n",
        "ax[0,0].set(title='True Positive Comparison', ylabel='accuracy %', ylim=(90, 100))\n",
        "ax[0,1].set(title='False Positive Comparison', ylabel='accuracy %', ylim=(10, 20))\n",
        "ax[1,0].set(title='Overall Accuracy Comparison', ylabel='accuracy %', ylim=(80, 90))\n",
        "ax[1,1].set(title='F-measure Comparison', ylabel='F-measure', ylim=(0.5, 0.8))\n",
        "\n",
        "# add numbers on top of the bars\n",
        "for x in fig.get_axes():\n",
        "    x.bar_label(x.containers[0], label_type='edge')\n",
        "\n",
        "plt.show()\n"
      ],
      "metadata": {
        "colab": {
          "base_uri": "https://localhost:8080/",
          "height": 830
        },
        "id": "6Ijvpn5mb4Tq",
        "outputId": "1c3e6a35-5d4f-484a-f946-916f66470db1"
      },
      "execution_count": 52,
      "outputs": [
        {
          "output_type": "error",
          "ename": "AttributeError",
          "evalue": "ignored",
          "traceback": [
            "\u001b[0;31m---------------------------------------------------------------------------\u001b[0m",
            "\u001b[0;31mAttributeError\u001b[0m                            Traceback (most recent call last)",
            "\u001b[0;32m<ipython-input-52-aa4ba8deb33c>\u001b[0m in \u001b[0;36m<module>\u001b[0;34m\u001b[0m\n\u001b[1;32m     13\u001b[0m \u001b[0;31m# add numbers on top of the bars\u001b[0m\u001b[0;34m\u001b[0m\u001b[0;34m\u001b[0m\u001b[0;34m\u001b[0m\u001b[0m\n\u001b[1;32m     14\u001b[0m \u001b[0;32mfor\u001b[0m \u001b[0mx\u001b[0m \u001b[0;32min\u001b[0m \u001b[0mfig\u001b[0m\u001b[0;34m.\u001b[0m\u001b[0mget_axes\u001b[0m\u001b[0;34m(\u001b[0m\u001b[0;34m)\u001b[0m\u001b[0;34m:\u001b[0m\u001b[0;34m\u001b[0m\u001b[0;34m\u001b[0m\u001b[0m\n\u001b[0;32m---> 15\u001b[0;31m     \u001b[0mx\u001b[0m\u001b[0;34m.\u001b[0m\u001b[0mbar_label\u001b[0m\u001b[0;34m(\u001b[0m\u001b[0mx\u001b[0m\u001b[0;34m.\u001b[0m\u001b[0mcontainers\u001b[0m\u001b[0;34m[\u001b[0m\u001b[0;36m0\u001b[0m\u001b[0;34m]\u001b[0m\u001b[0;34m,\u001b[0m \u001b[0mlabel_type\u001b[0m\u001b[0;34m=\u001b[0m\u001b[0;34m'edge'\u001b[0m\u001b[0;34m)\u001b[0m\u001b[0;34m\u001b[0m\u001b[0;34m\u001b[0m\u001b[0m\n\u001b[0m\u001b[1;32m     16\u001b[0m \u001b[0;34m\u001b[0m\u001b[0m\n\u001b[1;32m     17\u001b[0m \u001b[0mplt\u001b[0m\u001b[0;34m.\u001b[0m\u001b[0mshow\u001b[0m\u001b[0;34m(\u001b[0m\u001b[0;34m)\u001b[0m\u001b[0;34m\u001b[0m\u001b[0;34m\u001b[0m\u001b[0m\n",
            "\u001b[0;31mAttributeError\u001b[0m: 'AxesSubplot' object has no attribute 'bar_label'"
          ]
        },
        {
          "output_type": "display_data",
          "data": {
            "text/plain": [
              "<Figure size 1080x720 with 4 Axes>"
            ],
            "image/png": "[encoded data removed]"
          },
          "metadata": {
            "needs_background": "light"
          }
        }
      ]
    },
    {
      "cell_type": "code",
      "source": [
        "print('Multilayer Perceptron - Test Analysis:')\n",
        "prediction = np.rint(p.eval(session=sess,feed_dict={x:test_x, y_hat:test_y}))\n",
        "\n",
        "# Compares the prediction of each object to its label\n",
        "true_positive, false_positive, false_negative = (1,0,0)\n",
        "for i in range(0,len(test_x)):\n",
        "    if (prediction[i] == 1 and test_y[i] == 1):\n",
        "        true_positive += 1\n",
        "    elif(prediction[i] == 1 and test_y[i] == 0):\n",
        "        false_positive += 1\n",
        "    elif(prediction[i] == 0 and test_y[i] == 1):\n",
        "        false_negative += 1\n",
        "\n",
        "# Calculate and print true positive and false positive precent\n",
        "positive = np.count_nonzero(test_y == 1)\n",
        "negative = len(test_y)-positive\n",
        "mlp_true_positive = 100*true_positive/positive\n",
        "mlp_false_positive = 100*false_positive/negative\n",
        "print('true positive: ', \"{:.1f}\".format(mlp_true_positive), '%')\n",
        "print('false positive: ', \"{:.1f}\".format(mlp_false_positive), '%')\n",
        "\n",
        "# Calculate and print accuracy and F-measure\n",
        "mlp_accuracy = 100*np.sum(prediction == test_y)/len(test_y)\n",
        "recall = true_positive / (true_positive + false_negative)\n",
        "precision = true_positive / (true_positive + false_positive)\n",
        "mlp_fmeasure = 2*(precision * recall) / (precision + recall)\n",
        "print('Accuracy:', \"{:.1f}\".format(mlp_accuracy), '%')\n",
        "print('F-measure: ', \"{:.3f}\".format(mlp_fmeasure))"
      ],
      "metadata": {
        "colab": {
          "base_uri": "https://localhost:8080/",
          "height": 461
        },
        "id": "iUmzsMxkcCJF",
        "outputId": "fdf9569f-409b-4e68-fb49-1b321c6780b4"
      },
      "execution_count": 53,
      "outputs": [
        {
          "output_type": "stream",
          "name": "stdout",
          "text": [
            "Multilayer Perceptron - Test Analysis:\n"
          ]
        },
        {
          "output_type": "error",
          "ename": "TypeError",
          "evalue": "ignored",
          "traceback": [
            "\u001b[0;31m---------------------------------------------------------------------------\u001b[0m",
            "\u001b[0;31mTypeError\u001b[0m                                 Traceback (most recent call last)",
            "\u001b[0;32m/usr/local/lib/python3.8/dist-packages/tensorflow/python/client/session.py\u001b[0m in \u001b[0;36m_run\u001b[0;34m(self, handle, fetches, feed_dict, options, run_metadata)\u001b[0m\n\u001b[1;32m   1130\u001b[0m           \u001b[0;32mtry\u001b[0m\u001b[0;34m:\u001b[0m\u001b[0;34m\u001b[0m\u001b[0;34m\u001b[0m\u001b[0m\n\u001b[0;32m-> 1131\u001b[0;31m             subfeed_t = self.graph.as_graph_element(\n\u001b[0m\u001b[1;32m   1132\u001b[0m                 subfeed, allow_tensor=True, allow_operation=False)\n",
            "\u001b[0;32m/usr/local/lib/python3.8/dist-packages/tensorflow/python/framework/ops.py\u001b[0m in \u001b[0;36mas_graph_element\u001b[0;34m(self, obj, allow_tensor, allow_operation)\u001b[0m\n\u001b[1;32m   3951\u001b[0m     \u001b[0;32mwith\u001b[0m \u001b[0mself\u001b[0m\u001b[0;34m.\u001b[0m\u001b[0m_lock\u001b[0m\u001b[0;34m:\u001b[0m\u001b[0;34m\u001b[0m\u001b[0;34m\u001b[0m\u001b[0m\n\u001b[0;32m-> 3952\u001b[0;31m       \u001b[0;32mreturn\u001b[0m \u001b[0mself\u001b[0m\u001b[0;34m.\u001b[0m\u001b[0m_as_graph_element_locked\u001b[0m\u001b[0;34m(\u001b[0m\u001b[0mobj\u001b[0m\u001b[0;34m,\u001b[0m \u001b[0mallow_tensor\u001b[0m\u001b[0;34m,\u001b[0m \u001b[0mallow_operation\u001b[0m\u001b[0;34m)\u001b[0m\u001b[0;34m\u001b[0m\u001b[0;34m\u001b[0m\u001b[0m\n\u001b[0m\u001b[1;32m   3953\u001b[0m \u001b[0;34m\u001b[0m\u001b[0m\n",
            "\u001b[0;32m/usr/local/lib/python3.8/dist-packages/tensorflow/python/framework/ops.py\u001b[0m in \u001b[0;36m_as_graph_element_locked\u001b[0;34m(self, obj, allow_tensor, allow_operation)\u001b[0m\n\u001b[1;32m   4039\u001b[0m       \u001b[0;31m# We give up!\u001b[0m\u001b[0;34m\u001b[0m\u001b[0;34m\u001b[0m\u001b[0;34m\u001b[0m\u001b[0m\n\u001b[0;32m-> 4040\u001b[0;31m       raise TypeError(\"Can not convert a %s into a %s.\" %\n\u001b[0m\u001b[1;32m   4041\u001b[0m                       (type(obj).__name__, types_str))\n",
            "\u001b[0;31mTypeError\u001b[0m: Can not convert a AxesSubplot into a Tensor.",
            "\nDuring handling of the above exception, another exception occurred:\n",
            "\u001b[0;31mTypeError\u001b[0m                                 Traceback (most recent call last)",
            "\u001b[0;32m<ipython-input-53-c5b512140654>\u001b[0m in \u001b[0;36m<module>\u001b[0;34m\u001b[0m\n\u001b[1;32m      1\u001b[0m \u001b[0mprint\u001b[0m\u001b[0;34m(\u001b[0m\u001b[0;34m'Multilayer Perceptron - Test Analysis:'\u001b[0m\u001b[0;34m)\u001b[0m\u001b[0;34m\u001b[0m\u001b[0;34m\u001b[0m\u001b[0m\n\u001b[0;32m----> 2\u001b[0;31m \u001b[0mprediction\u001b[0m \u001b[0;34m=\u001b[0m \u001b[0mnp\u001b[0m\u001b[0;34m.\u001b[0m\u001b[0mrint\u001b[0m\u001b[0;34m(\u001b[0m\u001b[0mp\u001b[0m\u001b[0;34m.\u001b[0m\u001b[0meval\u001b[0m\u001b[0;34m(\u001b[0m\u001b[0msession\u001b[0m\u001b[0;34m=\u001b[0m\u001b[0msess\u001b[0m\u001b[0;34m,\u001b[0m\u001b[0mfeed_dict\u001b[0m\u001b[0;34m=\u001b[0m\u001b[0;34m{\u001b[0m\u001b[0mx\u001b[0m\u001b[0;34m:\u001b[0m\u001b[0mtest_x\u001b[0m\u001b[0;34m,\u001b[0m \u001b[0my_hat\u001b[0m\u001b[0;34m:\u001b[0m\u001b[0mtest_y\u001b[0m\u001b[0;34m}\u001b[0m\u001b[0;34m)\u001b[0m\u001b[0;34m)\u001b[0m\u001b[0;34m\u001b[0m\u001b[0;34m\u001b[0m\u001b[0m\n\u001b[0m\u001b[1;32m      3\u001b[0m \u001b[0;34m\u001b[0m\u001b[0m\n\u001b[1;32m      4\u001b[0m \u001b[0;31m# Compares the prediction of each object to its label\u001b[0m\u001b[0;34m\u001b[0m\u001b[0;34m\u001b[0m\u001b[0;34m\u001b[0m\u001b[0m\n\u001b[1;32m      5\u001b[0m \u001b[0mtrue_positive\u001b[0m\u001b[0;34m,\u001b[0m \u001b[0mfalse_positive\u001b[0m\u001b[0;34m,\u001b[0m \u001b[0mfalse_negative\u001b[0m \u001b[0;34m=\u001b[0m \u001b[0;34m(\u001b[0m\u001b[0;36m1\u001b[0m\u001b[0;34m,\u001b[0m\u001b[0;36m0\u001b[0m\u001b[0;34m,\u001b[0m\u001b[0;36m0\u001b[0m\u001b[0;34m)\u001b[0m\u001b[0;34m\u001b[0m\u001b[0;34m\u001b[0m\u001b[0m\n",
            "\u001b[0;32m/usr/local/lib/python3.8/dist-packages/tensorflow/python/framework/ops.py\u001b[0m in \u001b[0;36meval\u001b[0;34m(self, feed_dict, session)\u001b[0m\n\u001b[1;32m    993\u001b[0m       \u001b[0mA\u001b[0m \u001b[0mnumpy\u001b[0m \u001b[0marray\u001b[0m \u001b[0mcorresponding\u001b[0m \u001b[0mto\u001b[0m \u001b[0mthe\u001b[0m \u001b[0mvalue\u001b[0m \u001b[0mof\u001b[0m \u001b[0mthis\u001b[0m \u001b[0mtensor\u001b[0m\u001b[0;34m.\u001b[0m\u001b[0;34m\u001b[0m\u001b[0;34m\u001b[0m\u001b[0m\n\u001b[1;32m    994\u001b[0m     \"\"\"\n\u001b[0;32m--> 995\u001b[0;31m     \u001b[0;32mreturn\u001b[0m \u001b[0m_eval_using_default_session\u001b[0m\u001b[0;34m(\u001b[0m\u001b[0mself\u001b[0m\u001b[0;34m,\u001b[0m \u001b[0mfeed_dict\u001b[0m\u001b[0;34m,\u001b[0m \u001b[0mself\u001b[0m\u001b[0;34m.\u001b[0m\u001b[0mgraph\u001b[0m\u001b[0;34m,\u001b[0m \u001b[0msession\u001b[0m\u001b[0;34m)\u001b[0m\u001b[0;34m\u001b[0m\u001b[0;34m\u001b[0m\u001b[0m\n\u001b[0m\u001b[1;32m    996\u001b[0m \u001b[0;34m\u001b[0m\u001b[0m\n\u001b[1;32m    997\u001b[0m   \u001b[0;34m@\u001b[0m\u001b[0mdeprecation\u001b[0m\u001b[0;34m.\u001b[0m\u001b[0mdeprecated\u001b[0m\u001b[0;34m(\u001b[0m\u001b[0;32mNone\u001b[0m\u001b[0;34m,\u001b[0m \u001b[0;34m\"Use ref() instead.\"\u001b[0m\u001b[0;34m)\u001b[0m\u001b[0;34m\u001b[0m\u001b[0;34m\u001b[0m\u001b[0m\n",
            "\u001b[0;32m/usr/local/lib/python3.8/dist-packages/tensorflow/python/framework/ops.py\u001b[0m in \u001b[0;36m_eval_using_default_session\u001b[0;34m(tensors, feed_dict, graph, session)\u001b[0m\n\u001b[1;32m   5745\u001b[0m                        \u001b[0;34m\"the tensor's graph is different from the session's \"\u001b[0m\u001b[0;34m\u001b[0m\u001b[0;34m\u001b[0m\u001b[0m\n\u001b[1;32m   5746\u001b[0m                        \"graph.\")\n\u001b[0;32m-> 5747\u001b[0;31m   \u001b[0;32mreturn\u001b[0m \u001b[0msession\u001b[0m\u001b[0;34m.\u001b[0m\u001b[0mrun\u001b[0m\u001b[0;34m(\u001b[0m\u001b[0mtensors\u001b[0m\u001b[0;34m,\u001b[0m \u001b[0mfeed_dict\u001b[0m\u001b[0;34m)\u001b[0m\u001b[0;34m\u001b[0m\u001b[0;34m\u001b[0m\u001b[0m\n\u001b[0m\u001b[1;32m   5748\u001b[0m \u001b[0;34m\u001b[0m\u001b[0m\n\u001b[1;32m   5749\u001b[0m \u001b[0;34m\u001b[0m\u001b[0m\n",
            "\u001b[0;32m/usr/local/lib/python3.8/dist-packages/tensorflow/python/client/session.py\u001b[0m in \u001b[0;36mrun\u001b[0;34m(self, fetches, feed_dict, options, run_metadata)\u001b[0m\n\u001b[1;32m    965\u001b[0m \u001b[0;34m\u001b[0m\u001b[0m\n\u001b[1;32m    966\u001b[0m     \u001b[0;32mtry\u001b[0m\u001b[0;34m:\u001b[0m\u001b[0;34m\u001b[0m\u001b[0;34m\u001b[0m\u001b[0m\n\u001b[0;32m--> 967\u001b[0;31m       result = self._run(None, fetches, feed_dict, options_ptr,\n\u001b[0m\u001b[1;32m    968\u001b[0m                          run_metadata_ptr)\n\u001b[1;32m    969\u001b[0m       \u001b[0;32mif\u001b[0m \u001b[0mrun_metadata\u001b[0m\u001b[0;34m:\u001b[0m\u001b[0;34m\u001b[0m\u001b[0;34m\u001b[0m\u001b[0m\n",
            "\u001b[0;32m/usr/local/lib/python3.8/dist-packages/tensorflow/python/client/session.py\u001b[0m in \u001b[0;36m_run\u001b[0;34m(self, handle, fetches, feed_dict, options, run_metadata)\u001b[0m\n\u001b[1;32m   1132\u001b[0m                 subfeed, allow_tensor=True, allow_operation=False)\n\u001b[1;32m   1133\u001b[0m           \u001b[0;32mexcept\u001b[0m \u001b[0mException\u001b[0m \u001b[0;32mas\u001b[0m \u001b[0me\u001b[0m\u001b[0;34m:\u001b[0m\u001b[0;34m\u001b[0m\u001b[0;34m\u001b[0m\u001b[0m\n\u001b[0;32m-> 1134\u001b[0;31m             raise TypeError(\n\u001b[0m\u001b[1;32m   1135\u001b[0m                 f'Cannot interpret feed_dict key as Tensor: {e.args[0]}')\n\u001b[1;32m   1136\u001b[0m \u001b[0;34m\u001b[0m\u001b[0m\n",
            "\u001b[0;31mTypeError\u001b[0m: Cannot interpret feed_dict key as Tensor: Can not convert a AxesSubplot into a Tensor."
          ]
        }
      ]
    }
  ]
}